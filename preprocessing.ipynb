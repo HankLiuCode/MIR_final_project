{
 "cells": [
  {
   "cell_type": "code",
   "execution_count": null,
   "metadata": {},
   "outputs": [],
   "source": [
    "import glob\n",
    "import os\n",
    "from pathlib import Path\n",
    "\n",
    "def move_files_for_training():\n",
    "    target_filename = \"kd.txt\"\n",
    "    save_dir = 'hihat'\n",
    "\n",
    "    for source_name in glob.glob(f\"../IDMT-SMT-DRUMS-V2/annotation_new/*#MIX*/{target_filename}\"):\n",
    "        dest_name = f\"./{save_dir}/{Path(source_name).parent.stem}.txt\"\n",
    "        print(source_name, dest_name)\n",
    "        os.popen(f'cp {source_name} {dest_name}')\n",
    "\n",
    "    for source_name in glob.glob(\"../IDMT-SMT-DRUMS-V2/audio/*#MIX*.wav\"):\n",
    "        dest_name = f\"./{save_dir}/{Path(source_name).stem}.wav\"\n",
    "        print(source_name, dest_name)\n",
    "        os.popen(f'cp {source_name} {dest_name}')"
   ]
  }
 ],
 "metadata": {
  "language_info": {
   "name": "python"
  },
  "orig_nbformat": 4
 },
 "nbformat": 4,
 "nbformat_minor": 2
}
